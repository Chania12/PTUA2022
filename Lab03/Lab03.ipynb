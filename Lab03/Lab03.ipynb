{
 "cells": [
  {
   "cell_type": "code",
   "execution_count": 1,
   "id": "a62f26ff",
   "metadata": {},
   "outputs": [],
   "source": [
    "#Excercise 2-1"
   ]
  },
  {
   "cell_type": "code",
   "execution_count": 2,
   "id": "342f0f42",
   "metadata": {
    "scrolled": true
   },
   "outputs": [
    {
     "name": "stdout",
     "output_type": "stream",
     "text": [
      "42\n"
     ]
    }
   ],
   "source": [
    "n=42\n",
    "print(n)"
   ]
  },
  {
   "cell_type": "code",
   "execution_count": 3,
   "id": "92dee88d",
   "metadata": {
    "scrolled": true
   },
   "outputs": [
    {
     "ename": "SyntaxError",
     "evalue": "cannot assign to literal (Temp/ipykernel_174272/3951123071.py, line 1)",
     "output_type": "error",
     "traceback": [
      "\u001b[1;36m  File \u001b[1;32m\"C:\\Users\\LENOVO\\AppData\\Local\\Temp/ipykernel_174272/3951123071.py\"\u001b[1;36m, line \u001b[1;32m1\u001b[0m\n\u001b[1;33m    42=n\u001b[0m\n\u001b[1;37m    ^\u001b[0m\n\u001b[1;31mSyntaxError\u001b[0m\u001b[1;31m:\u001b[0m cannot assign to literal\n"
     ]
    }
   ],
   "source": [
    "42=n\n",
    "print(42)"
   ]
  },
  {
   "cell_type": "code",
   "execution_count": 4,
   "id": "b44638ce",
   "metadata": {},
   "outputs": [
    {
     "name": "stdout",
     "output_type": "stream",
     "text": [
      "1\n",
      "1\n"
     ]
    }
   ],
   "source": [
    "x=y=1\n",
    "print(x)\n",
    "print(y)"
   ]
  },
  {
   "cell_type": "code",
   "execution_count": 5,
   "id": "6217c9ad",
   "metadata": {},
   "outputs": [
    {
     "name": "stdout",
     "output_type": "stream",
     "text": [
      "42\n"
     ]
    }
   ],
   "source": [
    "n=42;\n",
    "print(n)"
   ]
  },
  {
   "cell_type": "code",
   "execution_count": 6,
   "id": "28178190",
   "metadata": {},
   "outputs": [
    {
     "name": "stdout",
     "output_type": "stream",
     "text": [
      "42.0\n"
     ]
    }
   ],
   "source": [
    "n=42.\n",
    "print(n)"
   ]
  },
  {
   "cell_type": "code",
   "execution_count": 7,
   "id": "66d5f433",
   "metadata": {},
   "outputs": [
    {
     "name": "stdout",
     "output_type": "stream",
     "text": [
      "25\n"
     ]
    }
   ],
   "source": [
    "x=5\n",
    "y=5\n",
    "z=x*y\n",
    "print(z)"
   ]
  },
  {
   "cell_type": "code",
   "execution_count": 8,
   "id": "c2be2ef4",
   "metadata": {},
   "outputs": [],
   "source": [
    "#Excercise 2-2"
   ]
  },
  {
   "cell_type": "code",
   "execution_count": 9,
   "id": "946cfb3c",
   "metadata": {},
   "outputs": [
    {
     "name": "stdout",
     "output_type": "stream",
     "text": [
      "523.8095238095237\n"
     ]
    }
   ],
   "source": [
    "r=5\n",
    "pi=22/7\n",
    "sphere_volume= (4/3)*(pi)*(r**3)\n",
    "print(sphere_volume)"
   ]
  },
  {
   "cell_type": "code",
   "execution_count": 10,
   "id": "e78beb16",
   "metadata": {},
   "outputs": [
    {
     "ename": "SyntaxError",
     "evalue": "invalid syntax (Temp/ipykernel_174272/366811991.py, line 6)",
     "output_type": "error",
     "traceback": [
      "\u001b[1;36m  File \u001b[1;32m\"C:\\Users\\LENOVO\\AppData\\Local\\Temp/ipykernel_174272/366811991.py\"\u001b[1;36m, line \u001b[1;32m6\u001b[0m\n\u001b[1;33m    print(total_cost)\u001b[0m\n\u001b[1;37m    ^\u001b[0m\n\u001b[1;31mSyntaxError\u001b[0m\u001b[1;31m:\u001b[0m invalid syntax\n"
     ]
    }
   ],
   "source": [
    "cover=24.95\n",
    "disc=24.95*0.4\n",
    "shipping=3\n",
    "shippingextra=0.75\n",
    "total_cost=(60*(cover-disc)+shipping+(59*shippingextra)\n",
    "print(total_cost)"
   ]
  },
  {
   "cell_type": "code",
   "execution_count": 11,
   "id": "825c3674",
   "metadata": {},
   "outputs": [],
   "source": [
    "#Exercise 8-1"
   ]
  },
  {
   "cell_type": "code",
   "execution_count": 12,
   "id": "755e8285",
   "metadata": {},
   "outputs": [
    {
     "data": {
      "text/plain": [
       "'Hello World'"
      ]
     },
     "execution_count": 12,
     "metadata": {},
     "output_type": "execute_result"
    }
   ],
   "source": [
    "'hello world'.title()"
   ]
  },
  {
   "cell_type": "code",
   "execution_count": 13,
   "id": "bcbe04cd",
   "metadata": {},
   "outputs": [
    {
     "data": {
      "text/plain": [
       "'Hello world'"
      ]
     },
     "execution_count": 13,
     "metadata": {},
     "output_type": "execute_result"
    }
   ],
   "source": [
    "'hello world'.capitalize()"
   ]
  },
  {
   "cell_type": "code",
   "execution_count": 14,
   "id": "07bf79b3",
   "metadata": {},
   "outputs": [
    {
     "data": {
      "text/plain": [
       "'spacious'"
      ]
     },
     "execution_count": 14,
     "metadata": {},
     "output_type": "execute_result"
    }
   ],
   "source": [
    "'      spacious    '.strip()"
   ]
  },
  {
   "cell_type": "code",
   "execution_count": 15,
   "id": "bb185975",
   "metadata": {},
   "outputs": [
    {
     "data": {
      "text/plain": [
       "'www.example.com'"
      ]
     },
     "execution_count": 15,
     "metadata": {},
     "output_type": "execute_result"
    }
   ],
   "source": [
    "'www.example.com'.strip()"
   ]
  },
  {
   "cell_type": "code",
   "execution_count": 16,
   "id": "cec32e4d",
   "metadata": {},
   "outputs": [
    {
     "name": "stdout",
     "output_type": "stream",
     "text": [
      "mango\n"
     ]
    }
   ],
   "source": [
    "x='banana'\n",
    "print(x.replace('banana', 'mango'))"
   ]
  },
  {
   "cell_type": "code",
   "execution_count": 17,
   "id": "b2ad87df",
   "metadata": {},
   "outputs": [
    {
     "name": "stdout",
     "output_type": "stream",
     "text": [
      "don't let it be, don't let it be, don't let it be, don't let it be\n"
     ]
    }
   ],
   "source": [
    "y='let it be, let it be, let it be, let it be'\n",
    "print(y.replace('let', \"don't let\"))"
   ]
  },
  {
   "cell_type": "code",
   "execution_count": 18,
   "id": "4f7f0bdc",
   "metadata": {},
   "outputs": [],
   "source": [
    "#Excercise 8-2"
   ]
  },
  {
   "cell_type": "code",
   "execution_count": 19,
   "id": "8def05e9",
   "metadata": {},
   "outputs": [
    {
     "data": {
      "text/plain": [
       "3"
      ]
     },
     "execution_count": 19,
     "metadata": {},
     "output_type": "execute_result"
    }
   ],
   "source": [
    "x='banana'\n",
    "x.count('a')"
   ]
  },
  {
   "cell_type": "code",
   "execution_count": 20,
   "id": "672d72b2",
   "metadata": {},
   "outputs": [],
   "source": [
    "#Excercise 8-3"
   ]
  },
  {
   "cell_type": "code",
   "execution_count": 21,
   "id": "eeb05a87",
   "metadata": {},
   "outputs": [
    {
     "data": {
      "text/plain": [
       "'bnn'"
      ]
     },
     "execution_count": 21,
     "metadata": {},
     "output_type": "execute_result"
    }
   ],
   "source": [
    "word='banana'\n",
    "word[0:5:2]"
   ]
  },
  {
   "cell_type": "code",
   "execution_count": 22,
   "id": "071b8dbf",
   "metadata": {},
   "outputs": [
    {
     "data": {
      "text/plain": [
       "'moolb'"
      ]
     },
     "execution_count": 22,
     "metadata": {},
     "output_type": "execute_result"
    }
   ],
   "source": [
    "word='bloom'\n",
    "word[::-1]"
   ]
  },
  {
   "cell_type": "code",
   "execution_count": 23,
   "id": "65486b7e",
   "metadata": {},
   "outputs": [
    {
     "data": {
      "text/plain": [
       "'noon'"
      ]
     },
     "execution_count": 23,
     "metadata": {},
     "output_type": "execute_result"
    }
   ],
   "source": [
    "word='noon'\n",
    "word[::-1]"
   ]
  },
  {
   "cell_type": "code",
   "execution_count": 24,
   "id": "ec41b4d2",
   "metadata": {},
   "outputs": [],
   "source": [
    "#Exercise 4"
   ]
  },
  {
   "cell_type": "code",
   "execution_count": 68,
   "id": "3f3b387a",
   "metadata": {},
   "outputs": [
    {
     "data": {
      "text/plain": [
       "True"
      ]
     },
     "execution_count": 68,
     "metadata": {},
     "output_type": "execute_result"
    }
   ],
   "source": [
    "def any_lowercase1(s):\n",
    "    for c in s:\n",
    "        if c.islower():\n",
    "            return True\n",
    "        else:\n",
    "            return False\n",
    "\n",
    "any_lowercase1('banAna')\n"
   ]
  },
  {
   "cell_type": "code",
   "execution_count": 59,
   "id": "49034d28",
   "metadata": {},
   "outputs": [
    {
     "data": {
      "text/plain": [
       "'True'"
      ]
     },
     "execution_count": 59,
     "metadata": {},
     "output_type": "execute_result"
    }
   ],
   "source": [
    "def any_lowercase2(s):\n",
    "    for c in s:\n",
    "        if 'c' .islower():\n",
    "            return 'True'\n",
    "        else:\n",
    "            return 'False'\n",
    "        \n",
    "any_lowercase2('Banana')"
   ]
  },
  {
   "cell_type": "code",
   "execution_count": 73,
   "id": "c741d08b",
   "metadata": {},
   "outputs": [
    {
     "data": {
      "text/plain": [
       "True"
      ]
     },
     "execution_count": 73,
     "metadata": {},
     "output_type": "execute_result"
    }
   ],
   "source": [
    "def any_lowercase3(s):\n",
    "    for c in s:\n",
    "        flag= 'c'.islower()\n",
    "    return flag\n",
    "\n",
    "any_lowercase3('BANANA')"
   ]
  },
  {
   "cell_type": "code",
   "execution_count": 70,
   "id": "6b427f38",
   "metadata": {},
   "outputs": [
    {
     "data": {
      "text/plain": [
       "True"
      ]
     },
     "execution_count": 70,
     "metadata": {},
     "output_type": "execute_result"
    }
   ],
   "source": [
    "def any_lowercase4(s):\n",
    "    flag = False\n",
    "    for c in s:\n",
    "        flag = flag or c.islower()\n",
    "    return flag\n",
    "\n",
    "any_lowercase4('banana')"
   ]
  },
  {
   "cell_type": "code",
   "execution_count": 77,
   "id": "044db8a6",
   "metadata": {},
   "outputs": [
    {
     "data": {
      "text/plain": [
       "False"
      ]
     },
     "execution_count": 77,
     "metadata": {},
     "output_type": "execute_result"
    }
   ],
   "source": [
    "def any_lowercase5(s):\n",
    "    for c in s:\n",
    "        if not c.islower():\n",
    "            return False\n",
    "    return True\n",
    "\n",
    "any_lowercase5('BANAN')"
   ]
  },
  {
   "cell_type": "code",
   "execution_count": null,
   "id": "2b1cec65",
   "metadata": {},
   "outputs": [],
   "source": [
    "#Exercise 8-5"
   ]
  },
  {
   "cell_type": "code",
   "execution_count": 101,
   "id": "1beca9b2",
   "metadata": {},
   "outputs": [
    {
     "data": {
      "text/plain": [
       "'cubed'"
      ]
     },
     "execution_count": 101,
     "metadata": {},
     "output_type": "execute_result"
    }
   ],
   "source": [
    "# Rotate letter by n\n",
    "#step 1: make a function to rotates a letter by n places (only a letter)\n",
    "def rotate_letter(letter, n):\n",
    "    if letter.isupper():\n",
    "        start=ord('A') #define the start of the counting and to transform uppercase letter into integer\n",
    "    elif letter.islower():\n",
    "        start=ord('a') #define the start of the counting and to transform lowercase letter into integer\n",
    "    else:\n",
    "        return letter\n",
    "    \n",
    "    c=ord(letter)-start #convert the input letter to number and calculate the rotation for each letter\n",
    "    i=(c+n)%26+start # input the 'n' value as the rotation value\n",
    "    return chr(i) #transform back the integer to letter\n",
    "\n",
    "#step 2: make a function to rotate a word from each letter by n places\n",
    "def rotate_word(word, n): #define the variable\n",
    "    res = ''\n",
    "    for letter in word:\n",
    "        res += rotate_letter(letter, n)\n",
    "    return res\n",
    "\n",
    "rotate_word('cheer', 7)\n",
    "rotate_word('melon', -10)\n"
   ]
  }
 ],
 "metadata": {
  "kernelspec": {
   "display_name": "Python 3 (ipykernel)",
   "language": "python",
   "name": "python3"
  },
  "language_info": {
   "codemirror_mode": {
    "name": "ipython",
    "version": 3
   },
   "file_extension": ".py",
   "mimetype": "text/x-python",
   "name": "python",
   "nbconvert_exporter": "python",
   "pygments_lexer": "ipython3",
   "version": "3.9.7"
  }
 },
 "nbformat": 4,
 "nbformat_minor": 5
}
